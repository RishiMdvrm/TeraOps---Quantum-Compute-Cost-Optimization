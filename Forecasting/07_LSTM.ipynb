{
 "cells": [
  {
   "cell_type": "code",
   "execution_count": 1,
   "id": "b3da57bc",
   "metadata": {},
   "outputs": [],
   "source": [
    "import numpy as np, pandas as pd, torch, torch.nn as nn\n",
    "from pathlib import Path\n",
    "from sklearn.preprocessing import MinMaxScaler\n",
    "from torch.utils.data import Dataset, DataLoader"
   ]
  },
  {
   "cell_type": "code",
   "execution_count": null,
   "id": "69d474a3",
   "metadata": {},
   "outputs": [],
   "source": [
    "DATA      = Path(\"data/\")\n",
    "CSV_IN    = DATA / \"post_optimized_workloads_daily.csv\"   # rows: day, cols: workloads_tagX …\n",
    "CSV_OUT   = DATA / \"lstm_forecast_next7.csv\""
   ]
  },
  {
   "cell_type": "code",
   "execution_count": null,
   "id": "ff612c2c",
   "metadata": {},
   "outputs": [],
   "source": [
    "SEQ_LEN   = 14        # past-days window\n",
    "HORIZON   = 7         # predict next 7 days\n",
    "EPOCHS    = 20\n",
    "BATCH     = 256\n",
    "LR        = 1e-3\n",
    "DEVICE    = \"cuda\" if torch.cuda.is_available() else \"cpu\""
   ]
  },
  {
   "cell_type": "code",
   "execution_count": null,
   "id": "de5db854",
   "metadata": {},
   "outputs": [],
   "source": [
    "# 1.  Load post-optimised workload series\n",
    "df = pd.read_csv(CSV_IN).set_index(\"day\")\n",
    "tags  = df.columns\n",
    "data  = df.values.astype(np.float32)  \n",
    "\n",
    "scalers = {}\n",
    "for i, t in enumerate(tags):\n",
    "    scalers[t] = MinMaxScaler()\n",
    "    data[:, i:i+1] = scalers[t].fit_transform(data[:, i:i+1])"
   ]
  },
  {
   "cell_type": "code",
   "execution_count": null,
   "id": "9451cff7",
   "metadata": {},
   "outputs": [],
   "source": [
    "# 2.  Build (samples, seq_len, n_tags) tensors\n",
    "X, y = [], []\n",
    "for t in range(SEQ_LEN, len(data) - HORIZON + 1):\n",
    "    X.append(data[t-SEQ_LEN:t])\n",
    "    y.append(data[t:t+HORIZON])            # multivariate forecast\n",
    "X = torch.tensor(X)                        # (samples, 14, n_tags)\n",
    "y = torch.tensor(y)                        # (samples, 7, n_tags)\n",
    "\n",
    "loader = DataLoader(TensorDataset(X, y), batch_size=BATCH, shuffle=True)"
   ]
  },
  {
   "cell_type": "code",
   "execution_count": null,
   "id": "6c62c89d",
   "metadata": {},
   "outputs": [],
   "source": [
    "# 3.  multivariate LSTM\n",
    "class LSTMForecast(nn.Module):\n",
    "    def __init__(self, n_in, hidden=64, layers=2):\n",
    "        super().__init__()\n",
    "        self.lstm = nn.LSTM(n_in, hidden, layers, batch_first=True)\n",
    "        self.fc   = nn.Linear(hidden, HORIZON * n_in)\n",
    "\n",
    "    def forward(self, x):\n",
    "        h, _ = self.lstm(x)\n",
    "        out  = self.fc(h[:, -1])           # last step hidden\n",
    "        return out.view(-1, HORIZON, x.size(2))\n",
    "\n",
    "model = LSTMForecast(n_in=len(tags)).to(DEVICE)\n",
    "opt   = torch.optim.Adam(model.parameters(), lr=LR)\n",
    "lossf = nn.MSELoss()"
   ]
  },
  {
   "cell_type": "code",
   "execution_count": null,
   "id": "0821e3b0",
   "metadata": {},
   "outputs": [],
   "source": [
    "# 4.  Train\n",
    "for ep in range(EPOCHS):\n",
    "    tot = 0\n",
    "    for xb, yb in loader:\n",
    "        xb, yb = xb.to(DEVICE), yb.to(DEVICE)\n",
    "        opt.zero_grad()\n",
    "        pred = model(xb)\n",
    "        loss = lossf(pred, yb)\n",
    "        loss.backward(); opt.step()\n",
    "        tot += loss.item() * len(xb)\n",
    "    print(f\"Epoch {ep+1:02}/{EPOCHS}  loss={tot/len(loader.dataset):.4f}\")"
   ]
  },
  {
   "cell_type": "code",
   "execution_count": null,
   "id": "661f2321",
   "metadata": {},
   "outputs": [],
   "source": [
    "# 5.  Forecast next 7 days from last 14 days\n",
    "model.eval()\n",
    "seq_in = torch.tensor(data[-SEQ_LEN:]).unsqueeze(0).to(DEVICE)\n",
    "with torch.no_grad():\n",
    "    pred_scaled = model(seq_in).cpu().numpy()[0]           # (7, n_tags)\n",
    "\n",
    "# inverse-scale\n",
    "pred = np.zeros_like(pred_scaled)\n",
    "for i, t in enumerate(tags):\n",
    "    pred[:, i:i+1] = scalers[t].inverse_transform(pred_scaled[:, i:i+1])\n",
    "\n",
    "forecast_days = np.arange(df.index.max() + 1, df.index.max() + 1 + HORIZON)\n",
    "pred_df = pd.DataFrame(pred.astype(int), index=forecast_days, columns=tags)\n",
    "pred_df.to_csv(CSV_OUT)\n",
    "\n",
    "print(\"✔ 7-day workload forecast written to\", CSV_OUT)"
   ]
  }
 ],
 "metadata": {
  "kernelspec": {
   "display_name": "Main",
   "language": "python",
   "name": "python3"
  },
  "language_info": {
   "codemirror_mode": {
    "name": "ipython",
    "version": 3
   },
   "file_extension": ".py",
   "mimetype": "text/x-python",
   "name": "python",
   "nbconvert_exporter": "python",
   "pygments_lexer": "ipython3",
   "version": "3.12.2"
  }
 },
 "nbformat": 4,
 "nbformat_minor": 5
}
